{
 "cells": [
  {
   "cell_type": "code",
   "execution_count": null,
   "id": "9dea4401",
   "metadata": {
    "scrolled": true
   },
   "outputs": [
    {
     "name": "stdout",
     "output_type": "stream",
     "text": [
      " * Serving Flask app \"__main__\" (lazy loading)\n",
      " * Environment: production\n",
      "   WARNING: This is a development server. Do not use it in a production deployment.\n",
      "   Use a production WSGI server instead.\n",
      " * Debug mode: off\n"
     ]
    },
    {
     "name": "stderr",
     "output_type": "stream",
     "text": [
      " * Running on http://0.0.0.0:5000/ (Press CTRL+C to quit)\n"
     ]
    },
    {
     "name": "stdout",
     "output_type": "stream",
     "text": [
      "[youtube] jO2viLEW-1A: Downloading webpage\n",
      "[youtube] jO2viLEW-1A: Downloading webpage\n",
      "[download] Destination: source.mp3\n",
      "[download] 100% of 2.83MiB in 00:00                          \n",
      "[ffmpeg] Post-process file source.mp3 exists, skipping\n",
      "spleeter finished\n"
     ]
    },
    {
     "name": "stderr",
     "output_type": "stream",
     "text": [
      "182.211.14.72 - - [17/May/2021 15:59:28] \"\u001b[37mGET /slashing?url=https://www.youtube.com/watch?v=jO2viLEW-1A HTTP/1.1\u001b[0m\" 200 -\n"
     ]
    }
   ],
   "source": [
    "from flask import Flask, request, jsonify, send_file, make_response\n",
    "from werkzeug.exceptions import RequestURITooLarge\n",
    "from werkzeug.wrappers import Response\n",
    "import youtube_dl\n",
    "import os\n",
    "import json\n",
    "import requests\n",
    "from flask_cors import CORS\n",
    "\n",
    "app = Flask(__name__)\n",
    "CORS(app)\n",
    "\n",
    "@app.route('/slashing', methods=['GET'])\n",
    "def slashing_api():\n",
    "    url = request.args.get('url')\n",
    "    \n",
    "    # delete source.mp3 file\n",
    "    os.system('del source.mp3')\n",
    "    \n",
    "    mp3_file_name = get_mp3(url)\n",
    "    \n",
    "    # extract vocal from source.mp3 file\n",
    "    os.system('echo spleeter_starts')\n",
    "    os.system('python -m spleeter separate -i source.mp3 -p spleeter:4stems -o output')\n",
    "    \n",
    "    # delete source.mp3 file\n",
    "    # os.system('del source.mp3')\n",
    "    \n",
    "    # for debug\n",
    "    print('spleeter finished')\n",
    "    \n",
    "    # send vocals.wav to deepspeech server\n",
    "    url = 'http://54.152.57.69/receive.php'\n",
    "    files = {'uploadFile': open('./output/source/vocals.wav', 'rb')}\n",
    "    res = requests.post(url, files = files)\n",
    "    \n",
    "    return str(res.text)\n",
    "\n",
    "def get_mp3(url):\n",
    "    video_info = youtube_dl.YoutubeDL().extract_info(\n",
    "        url, download=False\n",
    "    )\n",
    "    file_name = \"source.mp3\"\n",
    "    options = {\n",
    "        'format' : 'bestaudio/best',\n",
    "        'keepvideo' : False,\n",
    "        'outtmpl' : file_name,\n",
    "        'postprocessors' : [{\n",
    "            'key' : 'FFmpegExtractAudio',\n",
    "            'preferredcodec' : 'mp3',\n",
    "            'preferredquality' : '192',\n",
    "        }]\n",
    "    }\n",
    "    \n",
    "    with youtube_dl.YoutubeDL(options) as download:\n",
    "        download.download([url])\n",
    "        \n",
    "    return file_name\n",
    "\n",
    "if __name__ == '__main__':\n",
    "    app.run(host = '0.0.0.0')"
   ]
  },
  {
   "cell_type": "code",
   "execution_count": null,
   "id": "2818613d",
   "metadata": {},
   "outputs": [],
   "source": []
  },
  {
   "cell_type": "code",
   "execution_count": null,
   "id": "5d2e1c16",
   "metadata": {},
   "outputs": [],
   "source": []
  }
 ],
 "metadata": {
  "kernelspec": {
   "display_name": "Python 3",
   "language": "python",
   "name": "python3"
  },
  "language_info": {
   "codemirror_mode": {
    "name": "ipython",
    "version": 3
   },
   "file_extension": ".py",
   "mimetype": "text/x-python",
   "name": "python",
   "nbconvert_exporter": "python",
   "pygments_lexer": "ipython3",
   "version": "3.7.10"
  }
 },
 "nbformat": 4,
 "nbformat_minor": 5
}
