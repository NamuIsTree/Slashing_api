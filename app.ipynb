{
 "cells": [
  {
   "cell_type": "code",
   "execution_count": null,
   "id": "9dea4401",
   "metadata": {},
   "outputs": [
    {
     "name": "stdout",
     "output_type": "stream",
     "text": [
      " * Serving Flask app \"__main__\" (lazy loading)\n",
      " * Environment: production\n",
      "   WARNING: This is a development server. Do not use it in a production deployment.\n",
      "   Use a production WSGI server instead.\n",
      " * Debug mode: off\n"
     ]
    },
    {
     "name": "stderr",
     "output_type": "stream",
     "text": [
      " * Running on http://0.0.0.0:5000/ (Press CTRL+C to quit)\n"
     ]
    },
    {
     "name": "stdout",
     "output_type": "stream",
     "text": [
      "[youtube] mxXvV2ww9Xs: Downloading webpage\n",
      "[youtube] mxXvV2ww9Xs: Downloading webpage\n",
      "[download] Destination: source.mp3\n",
      "[download] 100% of 1.29MiB in 00:00                          \n",
      "[ffmpeg] Correcting container in \"source.mp3\"\n",
      "[ffmpeg] Post-process file source.mp3 exists, skipping\n"
     ]
    },
    {
     "name": "stderr",
     "output_type": "stream",
     "text": [
      "182.211.14.72 - - [10/Apr/2021 15:19:42] \"\u001b[37mGET /slashing?url=https://www.youtube.com/watch?v=mxXvV2ww9Xs HTTP/1.1\u001b[0m\" 200 -\n"
     ]
    },
    {
     "name": "stdout",
     "output_type": "stream",
     "text": [
      "[youtube] z6tyssn1Hyg: Downloading webpage\n",
      "[youtube] z6tyssn1Hyg: Downloading webpage\n",
      "[download] Destination: source.mp3\n",
      "[download] 100% of 2.92MiB in 00:00                  \n",
      "[ffmpeg] Correcting container in \"source.mp3\"\n",
      "[ffmpeg] Post-process file source.mp3 exists, skipping\n"
     ]
    }
   ],
   "source": [
    "from flask import Flask, request, jsonify, send_file, make_response\n",
    "from werkzeug.exceptions import RequestURITooLarge\n",
    "from werkzeug.wrappers import Response\n",
    "import youtube_dl\n",
    "import os\n",
    "from flask_cors import CORS\n",
    "\n",
    "app = Flask(__name__)\n",
    "CORS(app)\n",
    "\n",
    "@app.route('/slashing', methods=['GET'])\n",
    "def slashing_api():\n",
    "    url = request.args.get('url')\n",
    "    mp3_file_name = get_mp3(url)\n",
    "    \n",
    "    # extract vocal from source.mp3 file\n",
    "    os.system('echo spleeter_starts')\n",
    "    os.system('python -m spleeter separate -i source.mp3 -p spleeter:2stems -o output')\n",
    "    \n",
    "    # delete source.mp3 file\n",
    "    os.system('del source.mp3')\n",
    "    \n",
    "    resp = make_response(\n",
    "        send_file(\"./output/source/vocals.wav\", mimetype=\"audio/wav\", as_attachment=True, attachment_filename=\"vocals.wav\")\n",
    "    )\n",
    "    \n",
    "    # send vocal.wav (extracted from source.mp3) to check\n",
    "    return resp\n",
    "\n",
    "def get_mp3(url):\n",
    "    video_info = youtube_dl.YoutubeDL().extract_info(\n",
    "        url, download=False\n",
    "    )\n",
    "    file_name = \"source.mp3\"\n",
    "    options = {\n",
    "        'format' : 'bestaudio/best',\n",
    "        'keepvideo' : False,\n",
    "        'outtmpl' : file_name,\n",
    "        'postprocessors' : [{\n",
    "            'key' : 'FFmpegExtractAudio',\n",
    "            'preferredcodec' : 'mp3',\n",
    "            'preferredquality' : '192',\n",
    "        }]\n",
    "    }\n",
    "    \n",
    "    with youtube_dl.YoutubeDL(options) as download:\n",
    "        download.download([url])\n",
    "        \n",
    "    return file_name\n",
    "\n",
    "if __name__ == '__main__':\n",
    "    app.run(host = '0.0.0.0')"
   ]
  },
  {
   "cell_type": "code",
   "execution_count": null,
   "id": "1174339e",
   "metadata": {},
   "outputs": [],
   "source": []
  }
 ],
 "metadata": {
  "kernelspec": {
   "display_name": "Python 3",
   "language": "python",
   "name": "python3"
  },
  "language_info": {
   "codemirror_mode": {
    "name": "ipython",
    "version": 3
   },
   "file_extension": ".py",
   "mimetype": "text/x-python",
   "name": "python",
   "nbconvert_exporter": "python",
   "pygments_lexer": "ipython3",
   "version": "3.7.10"
  }
 },
 "nbformat": 4,
 "nbformat_minor": 5
}
